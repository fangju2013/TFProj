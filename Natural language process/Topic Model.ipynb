{
 "cells": [
  {
   "cell_type": "markdown",
   "metadata": {},
   "source": [
    "# Introduction\n",
    "#### she changlue\n",
    "20th April 2017\n",
    "\n",
    "This project is construct to handle documents topic classification.\n",
    "I use self designed algorithm to efficiently embedding the documents' topic vector and tokens' topic vector.It is emperiacally proved that this algorithm can classify the topic of different documents and tokens in a speed way.\n",
    "\n",
    "this notebook will process as follow:\n",
    "1. load library and raw corpus data\n",
    "2. cut the corpus in to a list format\n",
    "3. encode the tokens and corpus\n",
    "4. construct model and train\n",
    "5. use T-SNE to do tokens' and docs' cluster \n",
    "6. visualization\n",
    "7. save the outcomes"
   ]
  },
  {
   "cell_type": "markdown",
   "metadata": {},
   "source": [
    "### 1)load library and raw corpus data"
   ]
  },
  {
   "cell_type": "code",
   "execution_count": 9,
   "metadata": {
    "collapsed": false
   },
   "outputs": [
    {
     "name": "stdout",
     "output_type": "stream",
     "text": [
      "custormTokens.txt\n",
      "马上消费金融_jiuhui.wu_2017-04-05.csv\n",
      "\n"
     ]
    }
   ],
   "source": [
    "% matplotlib inline\n",
    "import numpy as np # linear algebra\n",
    "import pandas as pd # data processing, CSV file I/O (e.g. pd.read_csv)\n",
    "import jieba.posseg as pseg\n",
    "import jieba\n",
    " \n",
    "from subprocess import check_output\n",
    "print(check_output([\"ls\", \"corpus\"]).decode(\"utf8\"))\n",
    "# Any results you write to the current directory are saved as output."
   ]
  },
  {
   "cell_type": "code",
   "execution_count": 7,
   "metadata": {
    "collapsed": true
   },
   "outputs": [],
   "source": [
    "jieba.load_userdict('corpus/custormTokens.txt')  \n",
    "rawdata = pd.read_csv('corpus/马上消费金融_jiuhui.wu_2017-04-05.csv', header=0,encoding='gbk' )"
   ]
  },
  {
   "cell_type": "markdown",
   "metadata": {},
   "source": [
    "#### corpus briefing"
   ]
  },
  {
   "cell_type": "code",
   "execution_count": 12,
   "metadata": {
    "collapsed": false
   },
   "outputs": [
    {
     "data": {
      "text/html": [
       "<div>\n",
       "<table border=\"1\" class=\"dataframe\">\n",
       "  <thead>\n",
       "    <tr style=\"text-align: right;\">\n",
       "      <th></th>\n",
       "      <th>记录时间</th>\n",
       "      <th>会话Id</th>\n",
       "      <th>消息来源</th>\n",
       "      <th>消息目标</th>\n",
       "      <th>消息内容</th>\n",
       "    </tr>\n",
       "  </thead>\n",
       "  <tbody>\n",
       "    <tr>\n",
       "      <th>0</th>\n",
       "      <td>2017-04-05 10:04:42</td>\n",
       "      <td>e3b8a805f67d4fa493b95b6a7ef0c90d</td>\n",
       "      <td>王文</td>\n",
       "      <td>机器人</td>\n",
       "      <td>怎么能提前还款</td>\n",
       "    </tr>\n",
       "    <tr>\n",
       "      <th>1</th>\n",
       "      <td>2017-04-05 10:04:42</td>\n",
       "      <td>e3b8a805f67d4fa493b95b6a7ef0c90d</td>\n",
       "      <td>机器人</td>\n",
       "      <td>王文</td>\n",
       "      <td>&lt;p&gt;15天内提前还款：请您直接拨打4000368876客服热线咨询立即结清金额，并在保证绑...</td>\n",
       "    </tr>\n",
       "    <tr>\n",
       "      <th>2</th>\n",
       "      <td>2017-04-05 10:05:26</td>\n",
       "      <td>e3b8a805f67d4fa493b95b6a7ef0c90d</td>\n",
       "      <td>王文</td>\n",
       "      <td>机器人</td>\n",
       "      <td>提前还款利息</td>\n",
       "    </tr>\n",
       "    <tr>\n",
       "      <th>3</th>\n",
       "      <td>2017-04-05 10:05:26</td>\n",
       "      <td>e3b8a805f67d4fa493b95b6a7ef0c90d</td>\n",
       "      <td>机器人</td>\n",
       "      <td>王文</td>\n",
       "      <td>&lt;p&gt;只要没有任何逾期款项即可申请提前还款，结清分期贷款，终止合同，提前还款服务费200元。...</td>\n",
       "    </tr>\n",
       "    <tr>\n",
       "      <th>4</th>\n",
       "      <td>2017-04-05 10:05:30</td>\n",
       "      <td>c72277e3a93949858e838cd5d3f62c92</td>\n",
       "      <td>11674001</td>\n",
       "      <td>机器人</td>\n",
       "      <td>你们客户打不通啊</td>\n",
       "    </tr>\n",
       "  </tbody>\n",
       "</table>\n",
       "</div>"
      ],
      "text/plain": [
       "                  记录时间                              会话Id      消息来源 消息目标  \\\n",
       "0  2017-04-05 10:04:42  e3b8a805f67d4fa493b95b6a7ef0c90d        王文  机器人   \n",
       "1  2017-04-05 10:04:42  e3b8a805f67d4fa493b95b6a7ef0c90d       机器人   王文   \n",
       "2  2017-04-05 10:05:26  e3b8a805f67d4fa493b95b6a7ef0c90d        王文  机器人   \n",
       "3  2017-04-05 10:05:26  e3b8a805f67d4fa493b95b6a7ef0c90d       机器人   王文   \n",
       "4  2017-04-05 10:05:30  c72277e3a93949858e838cd5d3f62c92  11674001  机器人   \n",
       "\n",
       "                                                消息内容  \n",
       "0                                            怎么能提前还款  \n",
       "1  <p>15天内提前还款：请您直接拨打4000368876客服热线咨询立即结清金额，并在保证绑...  \n",
       "2                                             提前还款利息  \n",
       "3  <p>只要没有任何逾期款项即可申请提前还款，结清分期贷款，终止合同，提前还款服务费200元。...  \n",
       "4                                           你们客户打不通啊  "
      ]
     },
     "execution_count": 12,
     "metadata": {},
     "output_type": "execute_result"
    }
   ],
   "source": [
    "rawdata.head()"
   ]
  },
  {
   "cell_type": "code",
   "execution_count": 13,
   "metadata": {
    "collapsed": false
   },
   "outputs": [
    {
     "data": {
      "text/plain": [
       "(56457, 5)"
      ]
     },
     "execution_count": 13,
     "metadata": {},
     "output_type": "execute_result"
    }
   ],
   "source": [
    "rawdata.shape"
   ]
  },
  {
   "cell_type": "code",
   "execution_count": 14,
   "metadata": {
    "collapsed": false
   },
   "outputs": [
    {
     "data": {
      "text/html": [
       "<div>\n",
       "<table border=\"1\" class=\"dataframe\">\n",
       "  <thead>\n",
       "    <tr style=\"text-align: right;\">\n",
       "      <th></th>\n",
       "      <th>记录时间</th>\n",
       "      <th>会话Id</th>\n",
       "      <th>消息来源</th>\n",
       "      <th>消息目标</th>\n",
       "      <th>消息内容</th>\n",
       "    </tr>\n",
       "  </thead>\n",
       "  <tbody>\n",
       "    <tr>\n",
       "      <th>count</th>\n",
       "      <td>56457</td>\n",
       "      <td>56457</td>\n",
       "      <td>56457</td>\n",
       "      <td>56457</td>\n",
       "      <td>56448</td>\n",
       "    </tr>\n",
       "    <tr>\n",
       "      <th>unique</th>\n",
       "      <td>25923</td>\n",
       "      <td>10002</td>\n",
       "      <td>7970</td>\n",
       "      <td>7970</td>\n",
       "      <td>17627</td>\n",
       "    </tr>\n",
       "    <tr>\n",
       "      <th>top</th>\n",
       "      <td>2017-04-05 14:45:50</td>\n",
       "      <td>5ca2cb3990b249e987b5e98dc40a7f4e</td>\n",
       "      <td>机器人</td>\n",
       "      <td>机器人</td>\n",
       "      <td>1</td>\n",
       "    </tr>\n",
       "    <tr>\n",
       "      <th>freq</th>\n",
       "      <td>11</td>\n",
       "      <td>357</td>\n",
       "      <td>28229</td>\n",
       "      <td>28228</td>\n",
       "      <td>5643</td>\n",
       "    </tr>\n",
       "  </tbody>\n",
       "</table>\n",
       "</div>"
      ],
      "text/plain": [
       "                       记录时间                              会话Id   消息来源   消息目标  \\\n",
       "count                 56457                             56457  56457  56457   \n",
       "unique                25923                             10002   7970   7970   \n",
       "top     2017-04-05 14:45:50  5ca2cb3990b249e987b5e98dc40a7f4e    机器人    机器人   \n",
       "freq                     11                               357  28229  28228   \n",
       "\n",
       "         消息内容  \n",
       "count   56448  \n",
       "unique  17627  \n",
       "top         1  \n",
       "freq     5643  "
      ]
     },
     "execution_count": 14,
     "metadata": {},
     "output_type": "execute_result"
    }
   ],
   "source": [
    "rawdata.describe()"
   ]
  },
  {
   "cell_type": "markdown",
   "metadata": {},
   "source": [
    "### 2)cut the corpus in to a list format"
   ]
  },
  {
   "cell_type": "code",
   "execution_count": null,
   "metadata": {
    "collapsed": true
   },
   "outputs": [],
   "source": [
    "corpus    = []\n",
    "sentences = []\n",
    "userIDs = range(len(rawdata['x']))\n",
    "conversations = list(rawdata[u'x'])\n",
    "\n",
    "for sentence in conversations:\n",
    "    sentence = sentence.replace('\\t','')\n",
    "    words = [pair.word for pair in pseg.lcut(sentence) if pair.flag in ['n','ns','vs','nv']]       \n",
    "    if len(words)>2:\n",
    "         corpus.append(words)\n",
    "         sentences.append(sentence)"
   ]
  }
 ],
 "metadata": {
  "kernelspec": {
   "display_name": "Python [default]",
   "language": "python",
   "name": "python3"
  },
  "language_info": {
   "codemirror_mode": {
    "name": "ipython",
    "version": 3
   },
   "file_extension": ".py",
   "mimetype": "text/x-python",
   "name": "python",
   "nbconvert_exporter": "python",
   "pygments_lexer": "ipython3",
   "version": "3.5.2"
  }
 },
 "nbformat": 4,
 "nbformat_minor": 2
}
