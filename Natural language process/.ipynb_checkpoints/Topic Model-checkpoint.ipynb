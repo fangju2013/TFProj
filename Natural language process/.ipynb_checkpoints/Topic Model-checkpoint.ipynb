{
 "cells": [
  {
   "cell_type": "markdown",
   "metadata": {},
   "source": [
    "# Introduction\n",
    "#### she changlue\n",
    "20th April 2017\n",
    "\n",
    "This project is construct to handle documents topic classification.\n",
    "I use self designed algorithm to efficiently embedding the documents' topic vector and tokens' topic vector.It is emperiacally proved that this algorithm can classify the topic of different documents and tokens in a speed way.\n",
    "\n",
    "this notebook will process as follow:\n",
    "1. load library and raw corpus data\n",
    "2. cut the corpus in to a list format\n",
    "3. encode the tokens and corpus\n",
    "4. construct model and train\n",
    "5. use kmeans to do tokens' and docs' cluster \n",
    "6. use T-SNE to visualization\n",
    "7. save the outcomes"
   ]
  },
  {
   "cell_type": "markdown",
   "metadata": {},
   "source": [
    "### 1)   load library and raw corpus data"
   ]
  },
  {
   "cell_type": "code",
   "execution_count": 1,
   "metadata": {
    "collapsed": false
   },
   "outputs": [
    {
     "name": "stdout",
     "output_type": "stream",
     "text": [
      "custormTokens.txt\n",
      "opr_rem.csv\n",
      "催收sample.csv\n",
      "马上消费金融_jiuhui.wu_2017-04-05.csv\n",
      "\n"
     ]
    }
   ],
   "source": [
    "% matplotlib inline\n",
    "import matplotlib.pyplot as plt\n",
    "import matplotlib.patheffects as PathEffects\n",
    "import matplotlib\n",
    "\n",
    "from sklearn.cluster import KMeans#cluster\n",
    "\n",
    "import seaborn as sns\n",
    "sns.set_style('darkgrid')\n",
    "sns.set_palette('muted')\n",
    "sns.set_context(\"notebook\", font_scale=1.5,\n",
    "                rc={\"lines.linewidth\": 2.5})\n",
    "\n",
    "import numpy as np # linear algebra\n",
    "import pandas as pd # data processing, CSV file I/O (e.g. pd.read_csv)\n",
    "import jieba.posseg as pseg # cut the documents with token and tags\n",
    "import jieba\n",
    "import tensorflow as tf\n",
    "\n",
    "from sklearn.manifold import TSNE#cluster\n",
    "\n",
    "from subprocess import check_output\n",
    "print(check_output([\"ls\", \"corpus\"]).decode(\"utf8\"))\n",
    "# Any results you write to the current directory are saved as output."
   ]
  },
  {
   "cell_type": "code",
   "execution_count": 2,
   "metadata": {
    "collapsed": false
   },
   "outputs": [
    {
     "name": "stderr",
     "output_type": "stream",
     "text": [
      "Building prefix dict from the default dictionary ...\n",
      "Loading model from cache C:\\Users\\ADMINI~1.NBJ\\AppData\\Local\\Temp\\jieba.cache\n",
      "Loading model cost 1.160 seconds.\n",
      "Prefix dict has been built succesfully.\n"
     ]
    }
   ],
   "source": [
    "jieba.load_userdict('corpus/custormTokens.txt')  \n",
    "rawdata = pd.read_csv('corpus/催收sample.csv', header=0,encoding='gbk')"
   ]
  },
  {
   "cell_type": "markdown",
   "metadata": {},
   "source": [
    "#### corpus briefing"
   ]
  },
  {
   "cell_type": "code",
   "execution_count": 3,
   "metadata": {
    "collapsed": false
   },
   "outputs": [
    {
     "data": {
      "text/html": [
       "<div>\n",
       "<table border=\"1\" class=\"dataframe\">\n",
       "  <thead>\n",
       "    <tr style=\"text-align: right;\">\n",
       "      <th></th>\n",
       "      <th>opr_rem</th>\n",
       "      <th>Unnamed: 1</th>\n",
       "      <th>Unnamed: 2</th>\n",
       "      <th>Unnamed: 3</th>\n",
       "      <th>Unnamed: 4</th>\n",
       "      <th>Unnamed: 5</th>\n",
       "    </tr>\n",
       "  </thead>\n",
       "  <tbody>\n",
       "    <tr>\n",
       "      <th>0</th>\n",
       "      <td>今天下午5点472</td>\n",
       "      <td>4</td>\n",
       "      <td>NaN</td>\n",
       "      <td>NaN</td>\n",
       "      <td>NaN</td>\n",
       "      <td>NaN</td>\n",
       "    </tr>\n",
       "    <tr>\n",
       "      <th>1</th>\n",
       "      <td>\\t告知客户电话15226088432</td>\n",
       "      <td>3</td>\n",
       "      <td>NaN</td>\n",
       "      <td>NaN</td>\n",
       "      <td>NaN</td>\n",
       "      <td>NaN</td>\n",
       "    </tr>\n",
       "    <tr>\n",
       "      <th>2</th>\n",
       "      <td>说是叔侄关系  转告</td>\n",
       "      <td>3</td>\n",
       "      <td>NaN</td>\n",
       "      <td>NaN</td>\n",
       "      <td>NaN</td>\n",
       "      <td>NaN</td>\n",
       "    </tr>\n",
       "    <tr>\n",
       "      <th>3</th>\n",
       "      <td>客户承诺今天下午五点存入184</td>\n",
       "      <td>4</td>\n",
       "      <td>NaN</td>\n",
       "      <td>NaN</td>\n",
       "      <td>NaN</td>\n",
       "      <td>NaN</td>\n",
       "    </tr>\n",
       "    <tr>\n",
       "      <th>4</th>\n",
       "      <td>已提醒征信影响。已告知从今天凌晨开始又会多增加75元的滞纳金。客户敷衍明天去解决</td>\n",
       "      <td>4</td>\n",
       "      <td>NaN</td>\n",
       "      <td>NaN</td>\n",
       "      <td>NaN</td>\n",
       "      <td>NaN</td>\n",
       "    </tr>\n",
       "  </tbody>\n",
       "</table>\n",
       "</div>"
      ],
      "text/plain": [
       "                                    opr_rem  Unnamed: 1  Unnamed: 2  \\\n",
       "0                                 今天下午5点472           4         NaN   \n",
       "1                       \\t告知客户电话15226088432           3         NaN   \n",
       "2                               说是叔侄关系  转告            3         NaN   \n",
       "3                           客户承诺今天下午五点存入184           4         NaN   \n",
       "4  已提醒征信影响。已告知从今天凌晨开始又会多增加75元的滞纳金。客户敷衍明天去解决           4         NaN   \n",
       "\n",
       "   Unnamed: 3  Unnamed: 4 Unnamed: 5  \n",
       "0         NaN         NaN        NaN  \n",
       "1         NaN         NaN        NaN  \n",
       "2         NaN         NaN        NaN  \n",
       "3         NaN         NaN        NaN  \n",
       "4         NaN         NaN        NaN  "
      ]
     },
     "execution_count": 3,
     "metadata": {},
     "output_type": "execute_result"
    }
   ],
   "source": [
    "rawdata.head()"
   ]
  },
  {
   "cell_type": "code",
   "execution_count": 4,
   "metadata": {
    "collapsed": false
   },
   "outputs": [
    {
     "data": {
      "text/plain": [
       "(999, 6)"
      ]
     },
     "execution_count": 4,
     "metadata": {},
     "output_type": "execute_result"
    }
   ],
   "source": [
    "rawdata.shape"
   ]
  },
  {
   "cell_type": "code",
   "execution_count": 5,
   "metadata": {
    "collapsed": false
   },
   "outputs": [
    {
     "name": "stderr",
     "output_type": "stream",
     "text": [
      "D:\\Anaconda\\lib\\site-packages\\numpy\\lib\\function_base.py:4116: RuntimeWarning: Invalid value encountered in percentile\n",
      "  interpolation=interpolation)\n"
     ]
    },
    {
     "data": {
      "text/html": [
       "<div>\n",
       "<table border=\"1\" class=\"dataframe\">\n",
       "  <thead>\n",
       "    <tr style=\"text-align: right;\">\n",
       "      <th></th>\n",
       "      <th>Unnamed: 1</th>\n",
       "      <th>Unnamed: 2</th>\n",
       "      <th>Unnamed: 3</th>\n",
       "      <th>Unnamed: 4</th>\n",
       "    </tr>\n",
       "  </thead>\n",
       "  <tbody>\n",
       "    <tr>\n",
       "      <th>count</th>\n",
       "      <td>999.000000</td>\n",
       "      <td>0.0</td>\n",
       "      <td>0.0</td>\n",
       "      <td>7.000000</td>\n",
       "    </tr>\n",
       "    <tr>\n",
       "      <th>mean</th>\n",
       "      <td>3.944945</td>\n",
       "      <td>NaN</td>\n",
       "      <td>NaN</td>\n",
       "      <td>4.000000</td>\n",
       "    </tr>\n",
       "    <tr>\n",
       "      <th>std</th>\n",
       "      <td>1.091033</td>\n",
       "      <td>NaN</td>\n",
       "      <td>NaN</td>\n",
       "      <td>2.160247</td>\n",
       "    </tr>\n",
       "    <tr>\n",
       "      <th>min</th>\n",
       "      <td>1.000000</td>\n",
       "      <td>NaN</td>\n",
       "      <td>NaN</td>\n",
       "      <td>1.000000</td>\n",
       "    </tr>\n",
       "    <tr>\n",
       "      <th>25%</th>\n",
       "      <td>4.000000</td>\n",
       "      <td>NaN</td>\n",
       "      <td>NaN</td>\n",
       "      <td>NaN</td>\n",
       "    </tr>\n",
       "    <tr>\n",
       "      <th>50%</th>\n",
       "      <td>4.000000</td>\n",
       "      <td>NaN</td>\n",
       "      <td>NaN</td>\n",
       "      <td>NaN</td>\n",
       "    </tr>\n",
       "    <tr>\n",
       "      <th>75%</th>\n",
       "      <td>4.000000</td>\n",
       "      <td>NaN</td>\n",
       "      <td>NaN</td>\n",
       "      <td>NaN</td>\n",
       "    </tr>\n",
       "    <tr>\n",
       "      <th>max</th>\n",
       "      <td>7.000000</td>\n",
       "      <td>NaN</td>\n",
       "      <td>NaN</td>\n",
       "      <td>7.000000</td>\n",
       "    </tr>\n",
       "  </tbody>\n",
       "</table>\n",
       "</div>"
      ],
      "text/plain": [
       "       Unnamed: 1  Unnamed: 2  Unnamed: 3  Unnamed: 4\n",
       "count  999.000000         0.0         0.0    7.000000\n",
       "mean     3.944945         NaN         NaN    4.000000\n",
       "std      1.091033         NaN         NaN    2.160247\n",
       "min      1.000000         NaN         NaN    1.000000\n",
       "25%      4.000000         NaN         NaN         NaN\n",
       "50%      4.000000         NaN         NaN         NaN\n",
       "75%      4.000000         NaN         NaN         NaN\n",
       "max      7.000000         NaN         NaN    7.000000"
      ]
     },
     "execution_count": 5,
     "metadata": {},
     "output_type": "execute_result"
    }
   ],
   "source": [
    "rawdata.describe()"
   ]
  },
  {
   "cell_type": "markdown",
   "metadata": {},
   "source": [
    "### 2) cut the corpus in to a list format"
   ]
  },
  {
   "cell_type": "code",
   "execution_count": 6,
   "metadata": {
    "collapsed": false
   },
   "outputs": [],
   "source": [
    "tokenCorpus  = []#corpus list of cutted tokens\n",
    "rawSentences = []#raw text \n",
    "#documents    = list(rawdata[rawdata['消息目标']=='机器人']['消息内容'])#text which is send by custormers\n",
    "documents    = list(rawdata['opr_rem'])#text which is send by custormers"
   ]
  },
  {
   "cell_type": "code",
   "execution_count": 7,
   "metadata": {
    "collapsed": false
   },
   "outputs": [],
   "source": [
    "# cstruct the corpus\n",
    "for sentence in documents:\n",
    "    if len(str(sentence))>4:\n",
    "        sentence = sentence.replace('\\t','')\n",
    "        tokens = []    \n",
    "        for pair in pseg.lcut(sentence):\n",
    "            if pair.flag in ['t','n','ns','vs','nv','v']:\n",
    "                tokens.append(pair.word)\n",
    "            elif pair.flag=='m':\n",
    "                tokens.append('NUMB')\n",
    "        if len(tokens)>1:\n",
    "            tokenCorpus.append(tokens)\n",
    "            rawSentences.append(sentence)"
   ]
  },
  {
   "cell_type": "code",
   "execution_count": 8,
   "metadata": {
    "collapsed": false
   },
   "outputs": [
    {
     "data": {
      "text/plain": [
       "[['NUMB', 'NUMB', 'NUMB'],\n",
       " ['告知', '客户', '电话', 'NUMB'],\n",
       " ['说', '是', '叔侄', '关系', '转告']]"
      ]
     },
     "execution_count": 8,
     "metadata": {},
     "output_type": "execute_result"
    }
   ],
   "source": [
    "tokenCorpus[:3]"
   ]
  },
  {
   "cell_type": "code",
   "execution_count": 9,
   "metadata": {
    "collapsed": false
   },
   "outputs": [
    {
     "data": {
      "text/plain": [
       "['今天下午5点472',\n",
       " '告知客户电话15226088432',\n",
       " '说是叔侄关系  转告 ',\n",
       " '客户承诺今天下午五点存入184',\n",
       " '已提醒征信影响。已告知从今天凌晨开始又会多增加75元的滞纳金。客户敷衍明天去解决']"
      ]
     },
     "execution_count": 9,
     "metadata": {},
     "output_type": "execute_result"
    }
   ],
   "source": [
    "rawSentences[:5]"
   ]
  },
  {
   "cell_type": "markdown",
   "metadata": {},
   "source": [
    "### 3) encode the tokens and corpus"
   ]
  },
  {
   "cell_type": "code",
   "execution_count": 10,
   "metadata": {
    "collapsed": true
   },
   "outputs": [],
   "source": [
    "HP_miniTokenFreq = 3 #minimal tokens frequency\n",
    "tokenCount = dict()  #token count\n",
    "token2code = dict()  #token to code\n",
    "code2token = ['IFRQ'] #code to token\n",
    "code       = 1       #code"
   ]
  },
  {
   "cell_type": "markdown",
   "metadata": {},
   "source": [
    "##### transfer token into codes"
   ]
  },
  {
   "cell_type": "code",
   "execution_count": 11,
   "metadata": {
    "collapsed": false
   },
   "outputs": [],
   "source": [
    "#get token frequency\n",
    "for tokens in tokenCorpus:\n",
    "    for token in tokens:\n",
    "        tokenCount.setdefault(token,0)\n",
    "        tokenCount[token]+=1  \n",
    "#encode those tokens which have minumal frequency\n",
    "for token in tokenCount:\n",
    "    if tokenCount[token] > HP_miniTokenFreq:       \n",
    "        token2code[token] = code\n",
    "        code += 1\n",
    "        code2token.append(token)\n",
    "    else:\n",
    "        token2code[token] = 0\n",
    "#transfer the raw token corpus into encoded corpus\n",
    "codeCorpus = []\n",
    "for tokens in tokenCorpus:          \n",
    "    codeCorpus.append([token2code[token]for token in tokens])"
   ]
  },
  {
   "cell_type": "markdown",
   "metadata": {},
   "source": [
    "### 4) construct model and train"
   ]
  },
  {
   "cell_type": "code",
   "execution_count": 12,
   "metadata": {
    "collapsed": false
   },
   "outputs": [
    {
     "name": "stdout",
     "output_type": "stream",
     "text": [
      "the training documents num: 973\n",
      "the training tokens    num: 141\n"
     ]
    }
   ],
   "source": [
    "HP_topicNums = 8\n",
    "documNums = len(codeCorpus)\n",
    "tokenNums = len(code2token)\n",
    "print(\"the training documents num:\",documNums)\n",
    "print(\"the training tokens    num:\",tokenNums)"
   ]
  },
  {
   "cell_type": "markdown",
   "metadata": {},
   "source": [
    "##### dense list to sparse numpy"
   ]
  },
  {
   "cell_type": "code",
   "execution_count": 13,
   "metadata": {
    "collapsed": false
   },
   "outputs": [],
   "source": [
    "tokenDocMat = np.zeros(shape=(documNums,tokenNums),dtype=np.float32)\n",
    "for docIdx in range(documNums):\n",
    "    tokenDocMat[docIdx][codeCorpus[docIdx]]=1\n",
    "docTokenNum = tokenDocMat.sum(axis=1).reshape((-1,1))   "
   ]
  },
  {
   "cell_type": "code",
   "execution_count": 14,
   "metadata": {
    "collapsed": false
   },
   "outputs": [],
   "source": [
    "docIndxSpan = np.array(range(documNums),dtype=np.int32)"
   ]
  },
  {
   "cell_type": "markdown",
   "metadata": {},
   "source": [
    "##### construct the graph"
   ]
  },
  {
   "cell_type": "code",
   "execution_count": 15,
   "metadata": {
    "collapsed": true
   },
   "outputs": [],
   "source": [
    "#embedding initial\n",
    "docum2topicEmbed  = tf.Variable(tf.random_uniform([documNums,HP_topicNums], -1.0, 1.0))\n",
    "token2topicWeight = tf.Variable(tf.random_uniform([HP_topicNums,tokenNums], -1.0, 1.0))"
   ]
  },
  {
   "cell_type": "code",
   "execution_count": 16,
   "metadata": {
    "collapsed": true
   },
   "outputs": [],
   "source": [
    "#placeholder\n",
    "document_idx   = tf.placeholder(tf.int32, shape=[None])\n",
    "document_embed = tf.nn.embedding_lookup(docum2topicEmbed , document_idx) \n",
    "multiplier     = tf.placeholder(tf.float32, shape=[None,1])\n",
    "tokensInDoc    = tf.placeholder(tf.float32,shape=[None,tokenNums])"
   ]
  },
  {
   "cell_type": "code",
   "execution_count": 17,
   "metadata": {
    "collapsed": false
   },
   "outputs": [],
   "source": [
    "#forward \n",
    "with tf.name_scope(\"TM\"):\n",
    "    documentembed_Sfmx     = tf.nn.softmax(document_embed)\n",
    "    token2topicWeight_Sfmx = tf.nn.softmax(token2topicWeight,dim=0)\n",
    "    tokensInDoc_pred       = tf.nn.softmax(tf.matmul(documentembed_Sfmx,token2topicWeight_Sfmx))*multiplier                           "
   ]
  },
  {
   "cell_type": "code",
   "execution_count": 18,
   "metadata": {
    "collapsed": false
   },
   "outputs": [],
   "source": [
    "# use least squre loss to train model\n",
    "with tf.name_scope(\"loss\"):   \n",
    "    loss = tf.reduce_mean(tf.square(tokensInDoc - tokensInDoc_pred))"
   ]
  },
  {
   "cell_type": "code",
   "execution_count": 19,
   "metadata": {
    "collapsed": false
   },
   "outputs": [],
   "source": [
    "learning_rate = 0.1\n",
    "with tf.name_scope(\"train\"):\n",
    "    optimizer   = tf.train.AdamOptimizer(learning_rate)\n",
    "    training_op = optimizer.minimize(loss)"
   ]
  },
  {
   "cell_type": "code",
   "execution_count": 20,
   "metadata": {
    "collapsed": true
   },
   "outputs": [],
   "source": [
    "#initial and save\n",
    "init = tf.global_variables_initializer()\n",
    "saver = tf.train.Saver()"
   ]
  },
  {
   "cell_type": "markdown",
   "metadata": {},
   "source": [
    "#### training the tensorflow graph"
   ]
  },
  {
   "cell_type": "code",
   "execution_count": 33,
   "metadata": {
    "collapsed": false
   },
   "outputs": [
    {
     "name": "stdout",
     "output_type": "stream",
     "text": [
      "0.0323299\n",
      "0.0307574\n",
      "0.0306829\n",
      "0.0306616\n",
      "0.0306546\n",
      "0.030651\n",
      "0.0306484\n",
      "0.0306451\n",
      "0.0306449\n",
      "0.0306431\n",
      "0.030643\n",
      "0.0306427\n",
      "0.0306421\n",
      "0.0306401\n",
      "0.0306387\n",
      "0.0306375\n",
      "0.0306374\n",
      "0.0306374\n",
      "0.0306372\n",
      "0.0306366\n",
      "0.0306365\n",
      "0.0306356\n",
      "0.0306356\n",
      "0.0306356\n",
      "0.0306355\n",
      "0.0306354\n",
      "0.0306354\n",
      "0.0306346\n",
      "0.0306346\n",
      "0.0306346\n",
      "0.0306346\n",
      "0.0306346\n",
      "0.0306345\n",
      "0.0306344\n",
      "0.030633\n",
      "0.030633\n",
      "0.0306316\n",
      "0.0306312\n",
      "0.0306312\n",
      "0.0306307\n",
      "0.0306307\n",
      "0.0306307\n",
      "0.0306307\n",
      "0.0306307\n",
      "0.0306307\n",
      "0.0306307\n",
      "0.0306307\n",
      "0.0306307\n",
      "0.0306307\n",
      "0.0306307\n",
      "0.0306306\n",
      "0.030628\n",
      "0.030628\n",
      "0.0306272\n",
      "0.030627\n",
      "0.0306269\n",
      "0.0306269\n",
      "0.0306269\n",
      "0.0306269\n",
      "0.0306269\n",
      "0.0306269\n",
      "0.0306269\n",
      "0.0306269\n",
      "0.0306269\n",
      "0.0306269\n",
      "0.0306269\n",
      "0.0306269\n",
      "0.0306269\n",
      "0.0306269\n",
      "0.0306269\n",
      "0.0306269\n",
      "0.0306268\n",
      "0.0306268\n",
      "0.0306268\n",
      "0.0306268\n",
      "0.0306268\n",
      "0.0306268\n",
      "0.0306268\n",
      "0.0306268\n",
      "0.0306268\n",
      "0.0306268\n",
      "0.0306268\n",
      "0.0306268\n",
      "0.0306268\n",
      "0.0306268\n",
      "0.0306268\n",
      "0.0306268\n",
      "0.0306269\n",
      "0.0306265\n",
      "0.0306265\n",
      "0.0306265\n",
      "0.0306265\n",
      "0.0306265\n",
      "0.0306265\n",
      "0.0306265\n",
      "0.0306265\n",
      "0.0306265\n",
      "0.0306265\n",
      "0.0306265\n",
      "0.0306265\n"
     ]
    }
   ],
   "source": [
    "#start training\n",
    "n_epochs   = 10000 \n",
    "with tf.Session() as sess:    \n",
    "    init.run()\n",
    "    for epoch in range(n_epochs):\n",
    "        #training\n",
    "        top,train_loss =sess.run([training_op,loss], feed_dict={document_idx : docIndxSpan,\n",
    "                                                                multiplier   : docTokenNum,\n",
    "                                                                tokensInDoc  : tokenDocMat})  \n",
    "        if epoch%100==0:\n",
    "            print(train_loss)\n",
    "    save_path = saver.save(sess,\"tfsave/topic_model.ckpt\")\n",
    "    # get embedding\n",
    "    documMat = documentembed_Sfmx.eval(feed_dict={document_idx : docIndxSpan})\n",
    "    tokenMat = token2topicWeight_Sfmx.eval()"
   ]
  },
  {
   "cell_type": "code",
   "execution_count": 34,
   "metadata": {
    "collapsed": false
   },
   "outputs": [
    {
     "data": {
      "text/plain": [
       "(array([ 1.        ,  0.99999994,  1.00000012,  0.99999988,  0.99999994], dtype=float32),\n",
       " array([ 1.        ,  1.00000012,  1.        ,  1.        ,  0.99999988], dtype=float32))"
      ]
     },
     "execution_count": 34,
     "metadata": {},
     "output_type": "execute_result"
    }
   ],
   "source": [
    "documMat.sum(axis=1)[:5],tokenMat.sum(axis=0)[:5]"
   ]
  },
  {
   "cell_type": "markdown",
   "metadata": {},
   "source": [
    "#### show the rough topic"
   ]
  },
  {
   "cell_type": "code",
   "execution_count": 35,
   "metadata": {
    "collapsed": false
   },
   "outputs": [],
   "source": [
    "topK = 10\n",
    "outDF = []\n",
    "keyWords = []\n",
    "keySentences = []\n",
    "for idx in range(HP_topicNums):    \n",
    "    ords = np.argsort(-tokenMat[idx])[:topK]\n",
    "    tmp = ['主题'+str(idx+1)]\n",
    "    tmp += [code2token[i]for i in ords]\n",
    "    keyWords+=tmp\n",
    "    ords = np.argsort(-documMat.T[idx])[:topK]\n",
    "    tmp = ['------------------------------']\n",
    "    tmp +=[rawSentences[i]for i in ords]\n",
    "    keySentences+=tmp\n",
    "outDF = [keyWords,keySentences] "
   ]
  },
  {
   "cell_type": "code",
   "execution_count": 42,
   "metadata": {
    "collapsed": false
   },
   "outputs": [
    {
     "data": {
      "text/html": [
       "<div>\n",
       "<table border=\"1\" class=\"dataframe\">\n",
       "  <thead>\n",
       "    <tr style=\"text-align: right;\">\n",
       "      <th></th>\n",
       "      <th>0</th>\n",
       "      <th>1</th>\n",
       "    </tr>\n",
       "  </thead>\n",
       "  <tbody>\n",
       "    <tr>\n",
       "      <th>0</th>\n",
       "      <td>主题1</td>\n",
       "      <td>------------------------------</td>\n",
       "    </tr>\n",
       "    <tr>\n",
       "      <th>1</th>\n",
       "      <td>扣款</td>\n",
       "      <td>13510526629 本人来电，实时扣款成功，民生卡这段时间不能系统扣，建议改卡，但是对方...</td>\n",
       "    </tr>\n",
       "    <tr>\n",
       "      <th>2</th>\n",
       "      <td>余额</td>\n",
       "      <td>18703507871本人来电 扣款   余额不足  不能提供身份证信息</td>\n",
       "    </tr>\n",
       "    <tr>\n",
       "      <th>3</th>\n",
       "      <td>系统</td>\n",
       "      <td>扣款余额不足，卡户称存错卡，告知还款卡，称现在就去存</td>\n",
       "    </tr>\n",
       "    <tr>\n",
       "      <th>4</th>\n",
       "      <td>称</td>\n",
       "      <td>来电  一女士来电无法提供身份证信息，对方称客户本月12号已经死了</td>\n",
       "    </tr>\n",
       "    <tr>\n",
       "      <th>5</th>\n",
       "      <td>不能</td>\n",
       "      <td>卡里有 698  ，实时划扣，若扣款余额不足，下午5点系统划扣</td>\n",
       "    </tr>\n",
       "    <tr>\n",
       "      <th>6</th>\n",
       "      <td>信息</td>\n",
       "      <td>很吵，对方称在上班没时间说话。</td>\n",
       "    </tr>\n",
       "    <tr>\n",
       "      <th>7</th>\n",
       "      <td>提供</td>\n",
       "      <td>来电咨询扣款情况，告知系统没更新</td>\n",
       "    </tr>\n",
       "    <tr>\n",
       "      <th>8</th>\n",
       "      <td>时间</td>\n",
       "      <td>来电，有钱。告知系统扣款</td>\n",
       "    </tr>\n",
       "    <tr>\n",
       "      <th>9</th>\n",
       "      <td>卡</td>\n",
       "      <td>13217412282爱人来电 扣款 余额不足</td>\n",
       "    </tr>\n",
       "    <tr>\n",
       "      <th>10</th>\n",
       "      <td>改卡</td>\n",
       "      <td>18926867266来电，扣款，余额不足</td>\n",
       "    </tr>\n",
       "    <tr>\n",
       "      <th>11</th>\n",
       "      <td>主题2</td>\n",
       "      <td>------------------------------</td>\n",
       "    </tr>\n",
       "    <tr>\n",
       "      <th>12</th>\n",
       "      <td>接</td>\n",
       "      <td>15911982780客母开始母亲接，接了父亲接一听到起欠钱就把电话挂了</td>\n",
       "    </tr>\n",
       "    <tr>\n",
       "      <th>13</th>\n",
       "      <td>挂</td>\n",
       "      <td>问其是不是杨梅，对方挂断，再打不接</td>\n",
       "    </tr>\n",
       "    <tr>\n",
       "      <th>14</th>\n",
       "      <td>挂断</td>\n",
       "      <td>本接。客户父亲。问为什么没还就挂机</td>\n",
       "    </tr>\n",
       "    <tr>\n",
       "      <th>15</th>\n",
       "      <td>母亲</td>\n",
       "      <td>2次接了就挂。无法核实身份</td>\n",
       "    </tr>\n",
       "    <tr>\n",
       "      <th>16</th>\n",
       "      <td>父亲</td>\n",
       "      <td>无法沟通，听不懂对方讲的方言</td>\n",
       "    </tr>\n",
       "    <tr>\n",
       "      <th>17</th>\n",
       "      <td>对方</td>\n",
       "      <td>更上条 沟通中对方挂机</td>\n",
       "    </tr>\n",
       "    <tr>\n",
       "      <th>18</th>\n",
       "      <td>无法</td>\n",
       "      <td>联系不上，听不清楚。提供母亲联系方式与记录的一致。</td>\n",
       "    </tr>\n",
       "    <tr>\n",
       "      <th>19</th>\n",
       "      <td>沟通</td>\n",
       "      <td>称不是客户母亲 挂断</td>\n",
       "    </tr>\n",
       "    <tr>\n",
       "      <th>20</th>\n",
       "      <td>挂机</td>\n",
       "      <td>公司错误，挂了</td>\n",
       "    </tr>\n",
       "    <tr>\n",
       "      <th>21</th>\n",
       "      <td>听</td>\n",
       "      <td>接了就挂了，貌似在打麻将</td>\n",
       "    </tr>\n",
       "    <tr>\n",
       "      <th>22</th>\n",
       "      <td>主题3</td>\n",
       "      <td>------------------------------</td>\n",
       "    </tr>\n",
       "    <tr>\n",
       "      <th>23</th>\n",
       "      <td>代扣</td>\n",
       "      <td>更改上条备注，以此为准：划扣结果显示交易代扣中.</td>\n",
       "    </tr>\n",
       "    <tr>\n",
       "      <th>24</th>\n",
       "      <td>备注</td>\n",
       "      <td>改上条：打错了</td>\n",
       "    </tr>\n",
       "    <tr>\n",
       "      <th>25</th>\n",
       "      <td>条</td>\n",
       "      <td>卡里有527   元到代扣银行卡</td>\n",
       "    </tr>\n",
       "    <tr>\n",
       "      <th>26</th>\n",
       "      <td>更改</td>\n",
       "      <td>卡里有钱直接扣到 523.24</td>\n",
       "    </tr>\n",
       "    <tr>\n",
       "      <th>27</th>\n",
       "      <td>划扣</td>\n",
       "      <td>骂人.手机型号与合同备注不一致.</td>\n",
       "    </tr>\n",
       "    <tr>\n",
       "      <th>28</th>\n",
       "      <td>到</td>\n",
       "      <td>说不知道客户的情况</td>\n",
       "    </tr>\n",
       "    <tr>\n",
       "      <th>29</th>\n",
       "      <td>有</td>\n",
       "      <td>小号短信已发</td>\n",
       "    </tr>\n",
       "    <tr>\n",
       "      <th>...</th>\n",
       "      <td>...</td>\n",
       "      <td>...</td>\n",
       "    </tr>\n",
       "    <tr>\n",
       "      <th>58</th>\n",
       "      <td>客服</td>\n",
       "      <td>15883554765本人来电，新增号码，说已经存钱进来，要求扣款</td>\n",
       "    </tr>\n",
       "    <tr>\n",
       "      <th>59</th>\n",
       "      <td>结清</td>\n",
       "      <td>13623542664来电查询还款没有，看不到还款记录，无法确认，转客服</td>\n",
       "    </tr>\n",
       "    <tr>\n",
       "      <th>60</th>\n",
       "      <td>号码</td>\n",
       "      <td>15766865424本人来电咨询欠款。告知剩余总欠款，让其有事打客服</td>\n",
       "    </tr>\n",
       "    <tr>\n",
       "      <th>61</th>\n",
       "      <td>要求</td>\n",
       "      <td>15522729921本人来电一次结清 添加号码15522729921</td>\n",
       "    </tr>\n",
       "    <tr>\n",
       "      <th>62</th>\n",
       "      <td>转</td>\n",
       "      <td>18355882957来电：结清，转客服。</td>\n",
       "    </tr>\n",
       "    <tr>\n",
       "      <th>63</th>\n",
       "      <td>添加</td>\n",
       "      <td>来电  咨询欠款问题 咨询还款问题 已告知 要求扣款1020.55+397.77 成功</td>\n",
       "    </tr>\n",
       "    <tr>\n",
       "      <th>64</th>\n",
       "      <td>查询</td>\n",
       "      <td>15757218265来电咨询一次性结清 转客服</td>\n",
       "    </tr>\n",
       "    <tr>\n",
       "      <th>65</th>\n",
       "      <td>已扣</td>\n",
       "      <td>13523851384来电咨询提前还款  告知先把欠款结清</td>\n",
       "    </tr>\n",
       "    <tr>\n",
       "      <th>66</th>\n",
       "      <td>主题7</td>\n",
       "      <td>------------------------------</td>\n",
       "    </tr>\n",
       "    <tr>\n",
       "      <th>67</th>\n",
       "      <td>转告</td>\n",
       "      <td>客同学接听，是一个宿舍的，在成都西南交通大学希望学院读书，会及时转告，并让其回电。</td>\n",
       "    </tr>\n",
       "    <tr>\n",
       "      <th>68</th>\n",
       "      <td>接听</td>\n",
       "      <td>母亲接，听不懂说话，大概意思是自己没钱，同意联系转告</td>\n",
       "    </tr>\n",
       "    <tr>\n",
       "      <th>69</th>\n",
       "      <td>回电</td>\n",
       "      <td>女接听问关系挂断。贷哥接听答应联系转告回电</td>\n",
       "    </tr>\n",
       "    <tr>\n",
       "      <th>70</th>\n",
       "      <td>是</td>\n",
       "      <td>客妻子接听，会及时转告客户，并让其回电.</td>\n",
       "    </tr>\n",
       "    <tr>\n",
       "      <th>71</th>\n",
       "      <td>客</td>\n",
       "      <td>客兄弟，不清楚客户工作情况，自己在外地，答应会转告客户回电处理欠款</td>\n",
       "    </tr>\n",
       "    <tr>\n",
       "      <th>72</th>\n",
       "      <td>晚上</td>\n",
       "      <td>二姑13137398846，答应转告客回电</td>\n",
       "    </tr>\n",
       "    <tr>\n",
       "      <th>73</th>\n",
       "      <td>说话</td>\n",
       "      <td>联系不上客户.客户是其朋友.转告回电.</td>\n",
       "    </tr>\n",
       "    <tr>\n",
       "      <th>74</th>\n",
       "      <td>答应</td>\n",
       "      <td>客户母亲接听，转告回电</td>\n",
       "    </tr>\n",
       "    <tr>\n",
       "      <th>75</th>\n",
       "      <td>今天</td>\n",
       "      <td>一女士接听，听不懂说话</td>\n",
       "    </tr>\n",
       "    <tr>\n",
       "      <th>76</th>\n",
       "      <td>没</td>\n",
       "      <td>不是父亲，是朋友，答应转告，已告知征信影响</td>\n",
       "    </tr>\n",
       "    <tr>\n",
       "      <th>77</th>\n",
       "      <td>主题8</td>\n",
       "      <td>------------------------------</td>\n",
       "    </tr>\n",
       "    <tr>\n",
       "      <th>78</th>\n",
       "      <td>让</td>\n",
       "      <td>说要去核实儿子  会让存钱的</td>\n",
       "    </tr>\n",
       "    <tr>\n",
       "      <th>79</th>\n",
       "      <td>想</td>\n",
       "      <td>爱人接听，会想办法去联系客户还钱</td>\n",
       "    </tr>\n",
       "    <tr>\n",
       "      <th>80</th>\n",
       "      <td>办法</td>\n",
       "      <td>说找朋友只接到1000 ，还在想办法。关联人信息不提供</td>\n",
       "    </tr>\n",
       "    <tr>\n",
       "      <th>81</th>\n",
       "      <td>钱</td>\n",
       "      <td>15378795088本人来电 称钱已经拿给销售，让其核实</td>\n",
       "    </tr>\n",
       "    <tr>\n",
       "      <th>82</th>\n",
       "      <td>去</td>\n",
       "      <td>不配合，让找客自己电话</td>\n",
       "    </tr>\n",
       "    <tr>\n",
       "      <th>83</th>\n",
       "      <td>找</td>\n",
       "      <td>父亲让儿子 今天  18d  685</td>\n",
       "    </tr>\n",
       "    <tr>\n",
       "      <th>84</th>\n",
       "      <td>爱人</td>\n",
       "      <td>一定要15号还钱</td>\n",
       "    </tr>\n",
       "    <tr>\n",
       "      <th>85</th>\n",
       "      <td>核实</td>\n",
       "      <td>13378820420不是，系统无此号码让打 客户爱人电话</td>\n",
       "    </tr>\n",
       "    <tr>\n",
       "      <th>86</th>\n",
       "      <td>儿子</td>\n",
       "      <td>正在处理中卡里的钱</td>\n",
       "    </tr>\n",
       "    <tr>\n",
       "      <th>87</th>\n",
       "      <td>要</td>\n",
       "      <td>卡里有钱 实时划扣762   元</td>\n",
       "    </tr>\n",
       "  </tbody>\n",
       "</table>\n",
       "<p>88 rows × 2 columns</p>\n",
       "</div>"
      ],
      "text/plain": [
       "      0                                                  1\n",
       "0   主题1                     ------------------------------\n",
       "1    扣款  13510526629 本人来电，实时扣款成功，民生卡这段时间不能系统扣，建议改卡，但是对方...\n",
       "2    余额               18703507871本人来电 扣款   余额不足  不能提供身份证信息\n",
       "3    系统                         扣款余额不足，卡户称存错卡，告知还款卡，称现在就去存\n",
       "4     称                  来电  一女士来电无法提供身份证信息，对方称客户本月12号已经死了\n",
       "5    不能                    卡里有 698  ，实时划扣，若扣款余额不足，下午5点系统划扣\n",
       "6    信息                                    很吵，对方称在上班没时间说话。\n",
       "7    提供                                   来电咨询扣款情况，告知系统没更新\n",
       "8    时间                                       来电，有钱。告知系统扣款\n",
       "9     卡                           13217412282爱人来电 扣款 余额不足 \n",
       "10   改卡                              18926867266来电，扣款，余额不足\n",
       "11  主题2                     ------------------------------\n",
       "12    接               15911982780客母开始母亲接，接了父亲接一听到起欠钱就把电话挂了\n",
       "13    挂                                  问其是不是杨梅，对方挂断，再打不接\n",
       "14   挂断                                  本接。客户父亲。问为什么没还就挂机\n",
       "15   母亲                                      2次接了就挂。无法核实身份\n",
       "16   父亲                                     无法沟通，听不懂对方讲的方言\n",
       "17   对方                                  更上条 沟通中对方挂机      \n",
       "18   无法                          联系不上，听不清楚。提供母亲联系方式与记录的一致。\n",
       "19   沟通                                         称不是客户母亲 挂断\n",
       "20   挂机                                            公司错误，挂了\n",
       "21    听                                       接了就挂了，貌似在打麻将\n",
       "22  主题3                     ------------------------------\n",
       "23   代扣                           更改上条备注，以此为准：划扣结果显示交易代扣中.\n",
       "24   备注                                            改上条：打错了\n",
       "25    条                                   卡里有527   元到代扣银行卡\n",
       "26   更改                                    卡里有钱直接扣到 523.24\n",
       "27   划扣                                   骂人.手机型号与合同备注不一致.\n",
       "28    到                                          说不知道客户的情况\n",
       "29    有                                            小号短信已发 \n",
       "..  ...                                                ...\n",
       "58   客服                  15883554765本人来电，新增号码，说已经存钱进来，要求扣款\n",
       "59   结清               13623542664来电查询还款没有，看不到还款记录，无法确认，转客服\n",
       "60   号码               15766865424本人来电咨询欠款。告知剩余总欠款，让其有事打客服 \n",
       "61   要求                15522729921本人来电一次结清 添加号码15522729921\n",
       "62    转                              18355882957来电：结清，转客服。\n",
       "63   添加        来电  咨询欠款问题 咨询还款问题 已告知 要求扣款1020.55+397.77 成功\n",
       "64   查询                           15757218265来电咨询一次性结清 转客服\n",
       "65   已扣                      13523851384来电咨询提前还款  告知先把欠款结清\n",
       "66  主题7                     ------------------------------\n",
       "67   转告          客同学接听，是一个宿舍的，在成都西南交通大学希望学院读书，会及时转告，并让其回电。\n",
       "68   接听                         母亲接，听不懂说话，大概意思是自己没钱，同意联系转告\n",
       "69   回电                              女接听问关系挂断。贷哥接听答应联系转告回电\n",
       "70    是                               客妻子接听，会及时转告客户，并让其回电.\n",
       "71    客                  客兄弟，不清楚客户工作情况，自己在外地，答应会转告客户回电处理欠款\n",
       "72   晚上                              二姑13137398846，答应转告客回电\n",
       "73   说话                                联系不上客户.客户是其朋友.转告回电.\n",
       "74   答应                                        客户母亲接听，转告回电\n",
       "75   今天                                        一女士接听，听不懂说话\n",
       "76    没                              不是父亲，是朋友，答应转告，已告知征信影响\n",
       "77  主题8                     ------------------------------\n",
       "78    让                                     说要去核实儿子  会让存钱的\n",
       "79    想                                   爱人接听，会想办法去联系客户还钱\n",
       "80   办法                        说找朋友只接到1000 ，还在想办法。关联人信息不提供\n",
       "81    钱                      15378795088本人来电 称钱已经拿给销售，让其核实\n",
       "82    去                                        不配合，让找客自己电话\n",
       "83    找                                 父亲让儿子 今天  18d  685\n",
       "84   爱人                                           一定要15号还钱\n",
       "85   核实                     13378820420不是，系统无此号码让打 客户爱人电话 \n",
       "86   儿子                                          正在处理中卡里的钱\n",
       "87    要                                 卡里有钱 实时划扣762   元  \n",
       "\n",
       "[88 rows x 2 columns]"
      ]
     },
     "execution_count": 42,
     "metadata": {},
     "output_type": "execute_result"
    }
   ],
   "source": [
    "pd.DataFrame(outDF).T.head(30)"
   ]
  },
  {
   "cell_type": "markdown",
   "metadata": {},
   "source": [
    "### 5)  use kmeans to do tokens' and docs' cluster"
   ]
  },
  {
   "cell_type": "code",
   "execution_count": 37,
   "metadata": {
    "collapsed": true
   },
   "outputs": [],
   "source": [
    "tokenMat_KM = KMeans(n_clusters=HP_topicNums, random_state=0).fit(tokenMat.T)\n",
    "documMat_KM = KMeans(n_clusters=HP_topicNums, random_state=0).fit(documMat)"
   ]
  },
  {
   "cell_type": "code",
   "execution_count": 38,
   "metadata": {
    "collapsed": true
   },
   "outputs": [],
   "source": [
    "tokenMat_Label = tokenMat_KM.labels_\n",
    "documMat_Label = documMat_KM.labels_"
   ]
  },
  {
   "cell_type": "markdown",
   "metadata": {},
   "source": [
    "### 6)  use T-SNE to visualization"
   ]
  },
  {
   "cell_type": "code",
   "execution_count": 39,
   "metadata": {
    "collapsed": false
   },
   "outputs": [],
   "source": [
    "tokenMat_tsne_embed = TSNE(random_state=1).fit_transform(tokenMat.T)  \n",
    "documMat_tsne_embed = TSNE(random_state=1).fit_transform(documMat)  "
   ]
  },
  {
   "cell_type": "markdown",
   "metadata": {},
   "source": [
    "##### the visualization of word embeddings"
   ]
  },
  {
   "cell_type": "code",
   "execution_count": 40,
   "metadata": {
    "collapsed": false
   },
   "outputs": [
    {
     "data": {
      "text/plain": [
       "<matplotlib.collections.PathCollection at 0x3581462d30>"
      ]
     },
     "execution_count": 40,
     "metadata": {},
     "output_type": "execute_result"
    },
    {
     "data": {
      "image/png": "[encoded data removed]",
      "text/plain": [
       "<matplotlib.figure.Figure at 0x35fea54d68>"
      ]
     },
     "metadata": {},
     "output_type": "display_data"
    }
   ],
   "source": [
    "plt.scatter(tokenMat_tsne_embed[:,0],tokenMat_tsne_embed[:,1],c=tokenMat_Label, cmap=plt.cm.get_cmap(\"jet\", 10))"
   ]
  },
  {
   "cell_type": "markdown",
   "metadata": {},
   "source": [
    "##### the visualization of document embeddings"
   ]
  },
  {
   "cell_type": "code",
   "execution_count": 41,
   "metadata": {
    "collapsed": false
   },
   "outputs": [
    {
     "data": {
      "text/plain": [
       "<matplotlib.collections.PathCollection at 0x358116d9b0>"
      ]
     },
     "execution_count": 41,
     "metadata": {},
     "output_type": "execute_result"
    },
    {
     "data": {
      "image/png": "[encoded data removed]",
      "text/plain": [
       "<matplotlib.figure.Figure at 0x358146e2e8>"
      ]
     },
     "metadata": {},
     "output_type": "display_data"
    }
   ],
   "source": [
    "plt.scatter(documMat_tsne_embed[:,0],documMat_tsne_embed[:,1],c=documMat_Label, cmap=plt.cm.get_cmap(\"jet\", 10))"
   ]
  },
  {
   "cell_type": "markdown",
   "metadata": {},
   "source": [
    "### 7)  save the outcomes"
   ]
  },
  {
   "cell_type": "code",
   "execution_count": 30,
   "metadata": {
    "collapsed": true
   },
   "outputs": [],
   "source": [
    "outDF= pd.DataFrame()\n",
    "outDF['text']=rawSentences\n",
    "outDF['label']=documMat_Label"
   ]
  },
  {
   "cell_type": "code",
   "execution_count": 31,
   "metadata": {
    "collapsed": false
   },
   "outputs": [
    {
     "data": {
      "text/html": [
       "<div>\n",
       "<table border=\"1\" class=\"dataframe\">\n",
       "  <thead>\n",
       "    <tr style=\"text-align: right;\">\n",
       "      <th></th>\n",
       "      <th>text</th>\n",
       "      <th>label</th>\n",
       "    </tr>\n",
       "  </thead>\n",
       "  <tbody>\n",
       "    <tr>\n",
       "      <th>0</th>\n",
       "      <td>今天下午5点472</td>\n",
       "      <td>0</td>\n",
       "    </tr>\n",
       "    <tr>\n",
       "      <th>1</th>\n",
       "      <td>告知客户电话15226088432</td>\n",
       "      <td>3</td>\n",
       "    </tr>\n",
       "    <tr>\n",
       "      <th>2</th>\n",
       "      <td>说是叔侄关系  转告</td>\n",
       "      <td>1</td>\n",
       "    </tr>\n",
       "    <tr>\n",
       "      <th>3</th>\n",
       "      <td>客户承诺今天下午五点存入184</td>\n",
       "      <td>2</td>\n",
       "    </tr>\n",
       "    <tr>\n",
       "      <th>4</th>\n",
       "      <td>已提醒征信影响。已告知从今天凌晨开始又会多增加75元的滞纳金。客户敷衍明天去解决</td>\n",
       "      <td>2</td>\n",
       "    </tr>\n",
       "  </tbody>\n",
       "</table>\n",
       "</div>"
      ],
      "text/plain": [
       "                                       text  label\n",
       "0                                 今天下午5点472      0\n",
       "1                         告知客户电话15226088432      3\n",
       "2                               说是叔侄关系  转告       1\n",
       "3                           客户承诺今天下午五点存入184      2\n",
       "4  已提醒征信影响。已告知从今天凌晨开始又会多增加75元的滞纳金。客户敷衍明天去解决      2"
      ]
     },
     "execution_count": 31,
     "metadata": {},
     "output_type": "execute_result"
    }
   ],
   "source": [
    "outDF.head()"
   ]
  },
  {
   "cell_type": "code",
   "execution_count": 32,
   "metadata": {
    "collapsed": false
   },
   "outputs": [],
   "source": [
    "outDF.to_csv('save/docLabel.csv',encoding='gbk',index=False)"
   ]
  },
  {
   "cell_type": "code",
   "execution_count": null,
   "metadata": {
    "collapsed": true
   },
   "outputs": [],
   "source": []
  }
 ],
 "metadata": {
  "anaconda-cloud": {},
  "kernelspec": {
   "display_name": "Python [default]",
   "language": "python",
   "name": "python3"
  },
  "language_info": {
   "codemirror_mode": {
    "name": "ipython",
    "version": 3
   },
   "file_extension": ".py",
   "mimetype": "text/x-python",
   "name": "python",
   "nbconvert_exporter": "python",
   "pygments_lexer": "ipython3",
   "version": "3.5.2"
  }
 },
 "nbformat": 4,
 "nbformat_minor": 2
}
